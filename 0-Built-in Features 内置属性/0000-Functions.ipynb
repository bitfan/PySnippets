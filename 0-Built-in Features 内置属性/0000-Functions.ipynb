{
 "cells": [
  {
   "cell_type": "markdown",
   "metadata": {},
   "source": [
    "# 1. `abs(x)`\n",
    "返回一个数的绝对值。 参数可以是一个整数或浮点数。 如果参数是一个复数，则返回它的模。 如果 `x` 定义了 `__abs__()`，则 `abs(x)` 将返回 `x.__abs__()`。返回一个数的绝对值。 参数可以是一个整数或浮点数。 如果参数是一个复数，则返回它的模。 如果 `x` 定义了 `__abs__()`，则 `abs(x)` 将返回 `x.__abs__()`。"
   ]
  },
  {
   "cell_type": "code",
   "execution_count": 1,
   "metadata": {},
   "outputs": [
    {
     "output_type": "execute_result",
     "data": {
      "text/plain": "10"
     },
     "metadata": {},
     "execution_count": 1
    }
   ],
   "source": [
    "abs(-10)"
   ]
  },
  {
   "cell_type": "code",
   "execution_count": 2,
   "metadata": {},
   "outputs": [
    {
     "output_type": "execute_result",
     "data": {
      "text/plain": "10.5"
     },
     "metadata": {},
     "execution_count": 2
    }
   ],
   "source": [
    "abs(-10.5)"
   ]
  },
  {
   "cell_type": "code",
   "execution_count": 8,
   "metadata": {
    "tags": []
   },
   "outputs": [
    {
     "output_type": "stream",
     "name": "stdout",
     "text": "True\n"
    },
    {
     "output_type": "execute_result",
     "data": {
      "text/plain": "2.23606797749979"
     },
     "metadata": {},
     "execution_count": 8
    }
   ],
   "source": [
    "a = complex(1, 2)\n",
    "b = 1 + 2j\n",
    "print(a == b)\n",
    "abs(a)"
   ]
  },
  {
   "cell_type": "code",
   "execution_count": 5,
   "metadata": {},
   "outputs": [
    {
     "output_type": "execute_result",
     "data": {
      "text/plain": "11"
     },
     "metadata": {},
     "execution_count": 5
    }
   ],
   "source": [
    "class X:\n",
    "    def __init__(self, x):\n",
    "        self._x = x\n",
    "\n",
    "    def __abs__(self):\n",
    "        return self._x+1\n",
    "\n",
    "\n",
    "x = X(10)\n",
    "abs(x)"
   ]
  },
  {
   "cell_type": "markdown",
   "metadata": {},
   "source": [
    "# 2. `all(iterable)`\n",
    "如果 iterable 的所有元素均为真值（或可迭代对象为空）则返回 True 。 等价于:如果 iterable 的所有元素均为真值（或可迭代对象为空）则返回 True 。 "
   ]
  },
  {
   "cell_type": "code",
   "execution_count": null,
   "metadata": {},
   "outputs": [],
   "source": []
  }
 ],
 "metadata": {
  "language_info": {
   "codemirror_mode": {
    "name": "ipython",
    "version": 3
   },
   "file_extension": ".py",
   "mimetype": "text/x-python",
   "name": "python",
   "nbconvert_exporter": "python",
   "pygments_lexer": "ipython3",
   "version": "3.8.3-final"
  },
  "orig_nbformat": 2,
  "kernelspec": {
   "name": "python_defaultSpec_1594837286119",
   "display_name": "Python 3.8.3 64-bit ('snippet': conda)"
  }
 },
 "nbformat": 4,
 "nbformat_minor": 2
}